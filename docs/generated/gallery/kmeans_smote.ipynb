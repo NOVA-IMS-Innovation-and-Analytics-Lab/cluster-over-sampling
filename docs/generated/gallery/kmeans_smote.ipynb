{
  "cells": [
    {
      "cell_type": "code",
      "execution_count": null,
      "metadata": {
        "collapsed": false
      },
      "outputs": [],
      "source": [
        "%matplotlib inline"
      ]
    },
    {
      "cell_type": "markdown",
      "metadata": {},
      "source": [
        "\nBasic algorithms\n================\n\nThis example illustrates the data generation \nprocess and the performance of KMeans-SMOTE.\n"
      ]
    },
    {
      "cell_type": "code",
      "execution_count": null,
      "metadata": {
        "collapsed": false
      },
      "outputs": [],
      "source": [
        "# Author: Georgios Douzas <gdouzas@icloud.com>\n# Licence: MIT\n\nimport matplotlib.pyplot as plt\nimport pandas as pd\nfrom clover.over_sampling import KMeansSMOTE\nfrom imblearn.over_sampling import SMOTE\nfrom imblearn.pipeline import make_pipeline\nfrom sklearn.base import clone\nfrom sklearn.datasets import make_classification\nfrom sklearn.ensemble import GradientBoostingClassifier\nfrom sklearn.metrics import f1_score\nfrom sklearn.model_selection import train_test_split\n\nRANDOM_STATE = 2\nOVERSAMPLERS = [\n    SMOTE(random_state=RANDOM_STATE),\n    KMeansSMOTE(random_state=RANDOM_STATE + 3),\n]\n\n\ndef generate_imbalanced_data():\n    \"\"\"Generate imbalanced data.\"\"\"\n    X, y = make_classification(\n        n_classes=3,\n        flip_y=0.05,\n        weights=[0.15, 0.6, 0.25],\n        n_informative=2,\n        n_redundant=0,\n        n_repeated=0,\n        n_features=2,\n        n_clusters_per_class=1,\n        n_samples=1000,\n        random_state=RANDOM_STATE,\n    )\n    return X, y\n\n\ndef plot_data(X, y, oversampler, ax):\n    \"\"\"Plot original or resampled data.\"\"\"\n    if oversampler is None:\n        X_res, y_res = X, y\n        title = 'Original data'\n    else:\n        oversampler = clone(oversampler)\n        X_res, y_res = oversampler.fit_resample(X, y)\n        ovs_name = oversampler.__class__.__name__\n        title = f'Resampling using {ovs_name}'\n    ax.scatter(X_res[:, 0], X_res[:, 1], c=y_res, alpha=0.8, edgecolor='k')\n    ax.spines['top'].set_visible(False)\n    ax.spines['right'].set_visible(False)\n    ax.get_xaxis().tick_bottom()\n    ax.get_yaxis().tick_left()\n    ax.spines['left'].set_position(('outward', 10))\n    ax.spines['bottom'].set_position(('outward', 10))\n    ax.set_title(title)\n\n\ndef compare_f1_scores(X_train, X_test, y_train, y_test, clf, oversampler):\n    \"\"\"Compare F1 scores of oversamplers.\"\"\"\n    ovs_clf = make_pipeline(clone(oversampler), clf)\n    y_pred = ovs_clf.fit(X_train, y_train).predict(X_test)\n    ovs_name = oversampler.__class__.__name__\n    ovs_score = f1_score(y_test, y_pred, average='macro')\n    return pd.DataFrame(\n        [[ovs_score]],\n        columns=['F-score'],\n        index=[ovs_name],\n    )"
      ]
    },
    {
      "cell_type": "markdown",
      "metadata": {},
      "source": [
        "Generate imbalanced data\n------------------------\n\nWe are generating an imbalanced multi-class data set, using\n``make_classification`` from scikit-learn.\n\n"
      ]
    },
    {
      "cell_type": "code",
      "execution_count": null,
      "metadata": {
        "collapsed": false
      },
      "outputs": [],
      "source": [
        "X, y = generate_imbalanced_data()\n_, ax = plt.subplots(1, 1, figsize=(15, 7))\nplot_data(X, y, None, ax)"
      ]
    },
    {
      "cell_type": "markdown",
      "metadata": {},
      "source": [
        "Plot resampled data\n-------------------\n\nKMeans-SMOTE allows to identify areas of the input space which are appropriate to generate \nartificial data. Therefore, the generation of noisy samples is avoided and the within-classes \nimbalanced issue is also addressed. The next plots show the resampled data of\nKMeans-SMOTE vs SMOTE.\n\n"
      ]
    },
    {
      "cell_type": "code",
      "execution_count": null,
      "metadata": {
        "collapsed": false
      },
      "outputs": [],
      "source": [
        "fig, axs = plt.subplots(1, 2, figsize=(15, 5))\nfor ax, oversampler in zip(axs, OVERSAMPLERS):\n    plot_data(X, y, clone(oversampler), ax)\nfig.tight_layout()"
      ]
    },
    {
      "cell_type": "markdown",
      "metadata": {},
      "source": [
        "Performance evaluation\n----------------------\n\nWe are evaluating the performance of KMeans-SMOTE using F1-score as evaluation metric on a \ntest set. SMOTE's performance is also included.\n\n"
      ]
    },
    {
      "cell_type": "code",
      "execution_count": null,
      "metadata": {
        "collapsed": false
      },
      "outputs": [],
      "source": [
        "clf = GradientBoostingClassifier(random_state=RANDOM_STATE)\ndata = train_test_split(X, y, random_state=RANDOM_STATE)\nscores = pd.DataFrame()\nfor oversampler in OVERSAMPLERS:\n    X_train, X_test, y_train, y_test = data\n    scores = scores.append(compare_f1_scores(X_train, X_test, y_train, y_test, clf, oversampler))"
      ]
    }
  ],
  "metadata": {
    "kernelspec": {
      "display_name": "Python 3",
      "language": "python",
      "name": "python3"
    },
    "language_info": {
      "codemirror_mode": {
        "name": "ipython",
        "version": 3
      },
      "file_extension": ".py",
      "mimetype": "text/x-python",
      "name": "python",
      "nbconvert_exporter": "python",
      "pygments_lexer": "ipython3",
      "version": "3.10.7"
    }
  },
  "nbformat": 4,
  "nbformat_minor": 0
}